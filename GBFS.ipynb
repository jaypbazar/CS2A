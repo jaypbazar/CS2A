{
 "cells": [
  {
   "cell_type": "markdown",
   "metadata": {},
   "source": [
    "# Finding the Treasure\n",
    "##### Members:\n",
    "###### Bazar, Jayp\n",
    "###### Asiado, Jayson\n",
    "###### Cuadra, Hamzah\n",
    "\n",
    "##### Description: The main task of the program is find the path from the starting island to the island where the treasure is located in the shortest time possible. We are pirates looking for treasure that is located on the last island of grand line. We have one starting island connected with many different islands in which one island contains the path to the goal. We are going to the last island using the Greedy Best-First Search by choosing the island with the shortest distance to the current island. The worst case scenario is when we travelled through so many island delaying our exploration."
   ]
  },
  {
   "cell_type": "markdown",
   "metadata": {},
   "source": [
    "### Creating a Node class"
   ]
  },
  {
   "cell_type": "code",
   "execution_count": 2,
   "metadata": {},
   "outputs": [],
   "source": [
    "class Node():\n",
    "    def __init__(self, state, parent, hn=0):\n",
    "        self.state = state\n",
    "        self.parent = parent\n",
    "        self.action = []\n",
    "        self.hn = hn\n",
    "    \n",
    "    def add_action(self, action):\n",
    "        self.action.append(action)\n",
    "        return ((self.state, action.state), action.hn)\n",
    "\n",
    "    def actions(self):\n",
    "        for action in self.action:\n",
    "            print(action.name, end =\" \")"
   ]
  },
  {
   "cell_type": "markdown",
   "metadata": {},
   "source": [
    "### Greedy Best First Search Class"
   ]
  },
  {
   "cell_type": "code",
   "execution_count": 1,
   "metadata": {},
   "outputs": [],
   "source": [
    "class GBFS():\n",
    "    def __init__(self):\n",
    "        self.frontier = []\n",
    "\n",
    "    def add(self, node):\n",
    "        self.frontier.append(node)\n",
    "\n",
    "    def contains_state(self, state):\n",
    "        return any(node.state == state for node in self.frontier)\n",
    "\n",
    "    def empty(self):\n",
    "        return len(self.frontier) == 0\n",
    "\n",
    "    def remove(self):\n",
    "        c=float('inf')\n",
    "        if self.empty():\n",
    "            raise Exception(\"empty frontier\")\n",
    "        else:\n",
    "            for node in self.frontier:\n",
    "                if(node.hn < c):\n",
    "                    index = self.frontier.index(node)\n",
    "                    c=node.hn\n",
    "        return self.frontier.pop(index)"
   ]
  },
  {
   "cell_type": "markdown",
   "metadata": {},
   "source": [
    "### Creating Islands represented by Nodes"
   ]
  },
  {
   "cell_type": "code",
   "execution_count": null,
   "metadata": {},
   "outputs": [],
   "source": [
    "Island_A = Node(state=\"Island_A\", parent=None, hn=0)\n",
    "Island_B = Node(state=\"Island_B\", parent=Island_A, hn=10)\n",
    "Island_C = Node(state=\"Island_C\", parent=Island_A, hn=5)\n",
    "Island_D = Node(state=\"Island_D\", parent=Island_A, hn=8)\n",
    "Island_E = Node(state=\"Island_E\", parent=Island_B, hn=7)\n",
    "Island_F = Node(state=\"Island_F\", parent=Island_B, hn=12)\n",
    "Island_G = Node(state=\"Island_G\", parent=Island_C, hn=4)\n",
    "Island_H = Node(state=\"Island_H\", parent=Island_D, hn=2)\n",
    "Island_I = Node(state=\"Island_I\", parent=Island_E, hn=9)\n",
    "Island_J = Node(state=\"Island_J\", parent=Island_F, hn=14)\n",
    "Island_K = Node(state=\"Island_K\", parent=Island_G, hn=7)\n",
    "Island_L = Node(state=\"Island_L\", parent=Island_H, hn=19)\n",
    "Island_M = Node(state=\"Island_M\", parent=Island_I, hn=3)\n",
    "Island_N = Node(state=\"Island_N\", parent=Island_J, hn=5)\n",
    "Island_O = Node(state=\"Island_O\", parent=Island_K, hn=25)\n",
    "Island_P = Node(state=\"Island_P\", parent=Island_L, hn=13)\n",
    "Island_Q = Node(state=\"Island_Q\", parent=Island_M, hn=2)\n",
    "Island_R = Node(state=\"Island_R\", parent=Island_N, hn=19)\n",
    "Island_S = Node(state=\"Island_S\", parent=Island_O, hn=5)\n",
    "Island_T = Node(state=\"Island_T\", parent=Island_P, hn=11)\n",
    "Island_U = Node(state=\"Island_U\", parent=Island_Q, hn=4)\n",
    "Island_V = Node(state=\"Island_V\", parent=Island_R, hn=8)\n",
    "Island_W = Node(state=\"Island_W\", parent=Island_S, hn=6)\n",
    "Island_X = Node(state=\"Island_X\", parent=Island_T, hn=17)\n",
    "Island_Y = Node(state=\"Island_Y\", parent=Island_U, hn=22)\n",
    "Island_Z = Node(state=\"Island_Z\", parent=Island_W, hn=8)"
   ]
  }
 ],
 "metadata": {
  "kernelspec": {
   "display_name": "Python 3",
   "language": "python",
   "name": "python3"
  },
  "language_info": {
   "codemirror_mode": {
    "name": "ipython",
    "version": 3
   },
   "file_extension": ".py",
   "mimetype": "text/x-python",
   "name": "python",
   "nbconvert_exporter": "python",
   "pygments_lexer": "ipython3",
   "version": "3.11.4"
  },
  "orig_nbformat": 4
 },
 "nbformat": 4,
 "nbformat_minor": 2
}

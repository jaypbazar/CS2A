{
 "cells": [
  {
   "cell_type": "markdown",
   "metadata": {},
   "source": [
    "# Finding the Treasure\n",
    "##### Members:\n",
    "###### Bazar, Jayp\n",
    "###### Asiado, Jayson\n",
    "###### Cuadra, Hamzah\n",
    "\n",
    "##### Description: The main task of the program is find the path from the starting island to the island where the treasure is located in the shortest time possible. We are pirates looking for treasure that is located on the last island of grand line. We have one starting island connected with many different islands in which one island contains the path to the goal. We are going to the last island using the Greedy Best-First Search by choosing the island with the shortest distance to the current island. The worst case scenario is when we travelled through so many island delaying our exploration."
   ]
  },
  {
   "cell_type": "markdown",
   "metadata": {},
   "source": [
    "### Import Libraries"
   ]
  },
  {
   "cell_type": "code",
   "execution_count": 51,
   "metadata": {},
   "outputs": [],
   "source": [
    "import networkx as nx\n",
    "import matplotlib.pyplot as plt"
   ]
  },
  {
   "cell_type": "markdown",
   "metadata": {},
   "source": [
    "### Creating a Node class"
   ]
  },
  {
   "cell_type": "code",
   "execution_count": 52,
   "metadata": {},
   "outputs": [],
   "source": [
    "class Node():\n",
    "    def __init__(self, state, parent, hn=0):\n",
    "        self.state = state\n",
    "        self.parent = parent\n",
    "        self.action = []\n",
    "        self.hn = hn\n",
    "    \n",
    "    def add_action(self, action):\n",
    "        self.action.append(action)\n",
    "        return ((self.state, action.state), action.hn)\n",
    "\n",
    "    def actions(self):\n",
    "        for action in self.action:\n",
    "            print(action.name, end =\" \")"
   ]
  },
  {
   "cell_type": "markdown",
   "metadata": {},
   "source": [
    "### Greedy Best First Search Class"
   ]
  },
  {
   "cell_type": "code",
   "execution_count": 53,
   "metadata": {},
   "outputs": [],
   "source": [
    "class GBFS():\n",
    "    def __init__(self):\n",
    "        self.frontier = []\n",
    "\n",
    "    def add(self, node):\n",
    "        self.frontier.append(node)\n",
    "\n",
    "    def contains_state(self, state):\n",
    "        return any(node.state == state for node in self.frontier)\n",
    "\n",
    "    def empty(self):\n",
    "        return len(self.frontier) == 0\n",
    "\n",
    "    def remove(self):\n",
    "        c=float('inf')\n",
    "        if self.empty():\n",
    "            raise Exception(\"empty frontier\")\n",
    "        else:\n",
    "            for node in self.frontier:\n",
    "                if(node.hn < c):\n",
    "                    index = self.frontier.index(node)\n",
    "                    c=node.hn\n",
    "        return self.frontier.pop(index)"
   ]
  },
  {
   "cell_type": "markdown",
   "metadata": {},
   "source": [
    "### Creating Islands represented by Nodes"
   ]
  },
  {
   "cell_type": "code",
   "execution_count": 54,
   "metadata": {},
   "outputs": [],
   "source": [
    "Island_A = Node(state=\"A\", parent=None, hn=0)\n",
    "Island_B = Node(state=\"B\", parent=Island_A, hn=3)\n",
    "Island_C = Node(state=\"C\", parent=Island_A, hn=5)\n",
    "Island_D = Node(state=\"D\", parent=Island_A, hn=6)\n",
    "Island_E = Node(state=\"E\", parent=Island_B, hn=4)\n",
    "Island_F = Node(state=\"F\", parent=Island_B, hn=7)\n",
    "Island_G = Node(state=\"G\", parent=Island_C, hn=7)\n",
    "Island_H = Node(state=\"H\", parent=Island_C, hn=8)\n",
    "Island_I = Node(state=\"I\", parent=Island_D, hn=6)\n",
    "Island_J = Node(state=\"J\", parent=Island_D, hn=10)\n",
    "Island_K = Node(state=\"K\", parent=Island_E, hn=3)\n",
    "Island_L = Node(state=\"L\", parent=Island_H, hn=12)\n",
    "Island_M = Node(state=\"M\", parent=Island_F, hn=18)\n",
    "Island_N = Node(state=\"N\", parent=Island_J, hn=11)\n",
    "Island_O = Node(state=\"O\", parent=Island_J, hn=9)\n",
    "Island_P = Node(state=\"P\", parent=Island_M, hn=6)\n",
    "Island_Q = Node(state=\"Q\", parent=Island_M, hn=4)\n",
    "Island_R = Node(state=\"R\", parent=Island_N, hn=13)\n",
    "Island_S = Node(state=\"S\", parent=Island_N, hn=16)\n",
    "Island_T = Node(state=\"T\", parent=Island_L, hn=17)\n",
    "Island_U = Node(state=\"U\", parent=Island_L, hn=14)\n",
    "Island_V = Node(state=\"V\", parent=Island_R, hn=15)\n",
    "Island_W = Node(state=\"W\", parent=Island_R, hn=18)\n",
    "Island_X = Node(state=\"X\", parent=Island_T, hn=19)\n",
    "Island_Y = Node(state=\"Y\", parent=Island_T, hn=20)\n",
    "Island_Z = Node(state=\"Z\", parent=Island_V, hn=13)"
   ]
  },
  {
   "cell_type": "markdown",
   "metadata": {},
   "source": [
    "### Initializing a Graph"
   ]
  },
  {
   "cell_type": "code",
   "execution_count": 55,
   "metadata": {},
   "outputs": [],
   "source": [
    "G=nx.DiGraph()\n",
    "\n",
    "pcost=dict([\n",
    "    Island_A.add_action(Island_B),\n",
    "    Island_A.add_action(Island_C),\n",
    "    Island_A.add_action(Island_D),\n",
    "    Island_B.add_action(Island_E),\n",
    "    Island_B.add_action(Island_F),\n",
    "    Island_C.add_action(Island_G),\n",
    "    Island_C.add_action(Island_H),\n",
    "    Island_D.add_action(Island_I),\n",
    "    Island_D.add_action(Island_J),\n",
    "    Island_E.add_action(Island_K),\n",
    "    Island_H.add_action(Island_L),\n",
    "    Island_J.add_action(Island_N),\n",
    "    Island_J.add_action(Island_O),\n",
    "    Island_M.add_action(Island_P),\n",
    "    Island_M.add_action(Island_Q),\n",
    "    Island_N.add_action(Island_R),\n",
    "    Island_N.add_action(Island_S),\n",
    "    Island_L.add_action(Island_T),\n",
    "    Island_L.add_action(Island_U),\n",
    "    Island_T.add_action(Island_X),\n",
    "    Island_T.add_action(Island_Y),\n",
    "    Island_R.add_action(Island_V),\n",
    "    Island_R.add_action(Island_W),\n",
    "    Island_V.add_action(Island_Z)\n",
    "])"
   ]
  },
  {
   "cell_type": "markdown",
   "metadata": {},
   "source": [
    "### Adding Actions"
   ]
  },
  {
   "cell_type": "code",
   "execution_count": 56,
   "metadata": {},
   "outputs": [],
   "source": [
    "G.add_edges_from(pcost.keys())"
   ]
  },
  {
   "cell_type": "markdown",
   "metadata": {},
   "source": [
    "### Drawing Actions"
   ]
  },
  {
   "cell_type": "code",
   "execution_count": 76,
   "metadata": {},
   "outputs": [
    {
     "data": {
      "image/png": "[encoded data removed]",
      "text/plain": [
       "<Figure size 640x480 with 1 Axes>"
      ]
     },
     "metadata": {},
     "output_type": "display_data"
    }
   ],
   "source": [
    "pos = nx.spring_layout(G)\n",
    "nx.draw_networkx(G, pos)\n",
    "nx.draw_networkx_edge_labels(G, pos, edge_labels=pcost)   \n",
    "plt.show()"
   ]
  },
  {
   "cell_type": "markdown",
   "metadata": {},
   "source": [
    "### Important Variables"
   ]
  },
  {
   "cell_type": "code",
   "execution_count": 67,
   "metadata": {},
   "outputs": [],
   "source": [
    "#setting the goal\n",
    "goal = Island_Z\n",
    "\n",
    "#empty solution\n",
    "solution = []\n",
    "\n",
    "#empty frontier (can be changed to DFS or BFS)\n",
    "frontier = GBFS()\n",
    "\n",
    "#empty explored set\n",
    "explored = []\n",
    "\n",
    "#add the initial state to the frontier\n",
    "frontier.add(Island_A)"
   ]
  },
  {
   "cell_type": "code",
   "execution_count": 68,
   "metadata": {},
   "outputs": [
    {
     "name": "stdout",
     "output_type": "stream",
     "text": [
      "frontier: A, \n",
      "remove: A\n",
      "explored: A, \n",
      "possible action: B, C, D, \n",
      "\n",
      "\n",
      "frontier: B, C, D, \n",
      "remove: B\n",
      "explored: A, B, \n",
      "possible action: E, F, \n",
      "\n",
      "\n",
      "frontier: C, D, E, F, \n",
      "remove: E\n",
      "explored: A, B, E, \n",
      "possible action: K, \n",
      "\n",
      "\n",
      "frontier: C, D, F, K, \n",
      "remove: K\n",
      "explored: A, B, E, K, \n",
      "possible action: \n",
      "\n",
      "\n",
      "frontier: C, D, F, \n",
      "remove: C\n",
      "explored: A, B, E, K, C, \n",
      "possible action: G, H, \n",
      "\n",
      "\n",
      "frontier: D, F, G, H, \n",
      "remove: D\n",
      "explored: A, B, E, K, C, D, \n",
      "possible action: I, J, \n",
      "\n",
      "\n",
      "frontier: F, G, H, I, J, \n",
      "remove: I\n",
      "explored: A, B, E, K, C, D, I, \n",
      "possible action: \n",
      "\n",
      "\n",
      "frontier: F, G, H, J, \n",
      "remove: F\n",
      "explored: A, B, E, K, C, D, I, F, \n",
      "possible action: \n",
      "\n",
      "\n",
      "frontier: G, H, J, \n",
      "remove: G\n",
      "explored: A, B, E, K, C, D, I, F, G, \n",
      "possible action: \n",
      "\n",
      "\n",
      "frontier: H, J, \n",
      "remove: H\n",
      "explored: A, B, E, K, C, D, I, F, G, H, \n",
      "possible action: L, \n",
      "\n",
      "\n",
      "frontier: J, L, \n",
      "remove: J\n",
      "explored: A, B, E, K, C, D, I, F, G, H, J, \n",
      "possible action: N, O, \n",
      "\n",
      "\n",
      "frontier: L, N, O, \n",
      "remove: O\n",
      "explored: A, B, E, K, C, D, I, F, G, H, J, O, \n",
      "possible action: \n",
      "\n",
      "\n",
      "frontier: L, N, \n",
      "remove: N\n",
      "explored: A, B, E, K, C, D, I, F, G, H, J, O, N, \n",
      "possible action: R, S, \n",
      "\n",
      "\n",
      "frontier: L, R, S, \n",
      "remove: L\n",
      "explored: A, B, E, K, C, D, I, F, G, H, J, O, N, L, \n",
      "possible action: T, U, \n",
      "\n",
      "\n",
      "frontier: R, S, T, U, \n",
      "remove: R\n",
      "explored: A, B, E, K, C, D, I, F, G, H, J, O, N, L, R, \n",
      "possible action: V, W, \n",
      "\n",
      "\n",
      "frontier: S, T, U, V, W, \n",
      "remove: U\n",
      "explored: A, B, E, K, C, D, I, F, G, H, J, O, N, L, R, U, \n",
      "possible action: \n",
      "\n",
      "\n",
      "frontier: S, T, V, W, \n",
      "remove: V\n",
      "explored: A, B, E, K, C, D, I, F, G, H, J, O, N, L, R, U, V, \n",
      "possible action: Z, \n",
      "\n",
      "\n",
      "frontier: S, T, W, Z, \n",
      "remove: Z\n",
      "[SOLVED]:['A', 'B', 'E', 'K', 'C', 'D', 'I', 'F', 'G', 'H', 'J', 'O', 'N', 'L', 'R', 'U', 'V', 'Z']\n"
     ]
    }
   ],
   "source": [
    "while True:\n",
    "    #if the frontier is empty, then no solution\n",
    "    if frontier.empty():\n",
    "        raise Exception(\"no solution\")\n",
    "\n",
    "    #remove a node from the frontier\n",
    "    print(\"frontier: \", end=\"\")\n",
    "    for front in frontier.frontier:\n",
    "        print(front.state, end=\", \")\n",
    "    node = frontier.remove()\n",
    "    print(\"\\nremove: \"+node.state)\n",
    "    \n",
    "    \n",
    "    solution.append(node.state)\n",
    "\n",
    "    #if node contains goal state, return the solution\n",
    "    if goal.state == node.state:\n",
    "        print(\"[SOLVED]:\" + str(solution))\n",
    "        break\n",
    "\n",
    "    #adding to the explored set\n",
    "    explored.append(node)\n",
    "    print(\"explored: \", end=\"\")\n",
    "    for exp in explored:\n",
    "        print(exp.state, end=\", \")\n",
    "\n",
    "    #expanding the node and adding the resulting node/s to the frontier\n",
    "    print(\"\\npossible action: \", end=\"\")\n",
    "    for action in node.action:\n",
    "        if not frontier.contains_state(action) and action not in explored:\n",
    "            print(action.state, end=\", \")\n",
    "            frontier.add(action)\n",
    "        else:\n",
    "            print(\"nah\")\n",
    "    print(\"\\n\\n\")"
   ]
  }
 ],
 "metadata": {
  "kernelspec": {
   "display_name": "Python 3",
   "language": "python",
   "name": "python3"
  },
  "language_info": {
   "codemirror_mode": {
    "name": "ipython",
    "version": 3
   },
   "file_extension": ".py",
   "mimetype": "text/x-python",
   "name": "python",
   "nbconvert_exporter": "python",
   "pygments_lexer": "ipython3",
   "version": "3.10.11"
  },
  "orig_nbformat": 4
 },
 "nbformat": 4,
 "nbformat_minor": 2
}
